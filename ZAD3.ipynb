{
  "nbformat": 4,
  "nbformat_minor": 0,
  "metadata": {
    "colab": {
      "name": "Untitled10.ipynb",
      "provenance": [],
      "authorship_tag": "ABX9TyNSr1vvylsjm4EE4aUcdM8h",
      "include_colab_link": true
    },
    "kernelspec": {
      "name": "python3",
      "display_name": "Python 3"
    }
  },
  "cells": [
    {
      "cell_type": "markdown",
      "metadata": {
        "id": "view-in-github",
        "colab_type": "text"
      },
      "source": [
        "<a href=\"https://colab.research.google.com/github/DiaIzd/175IC-machine-learning./blob/main/ZAD3.ipynb\" target=\"_parent\"><img src=\"https://colab.research.google.com/assets/colab-badge.svg\" alt=\"Open In Colab\"/></a>"
      ]
    },
    {
      "cell_type": "code",
      "metadata": {
        "colab": {
          "base_uri": "https://localhost:8080/"
        },
        "id": "WKdIZLZaqud2",
        "outputId": "c8154a06-07c9-4d66-f637-3cf3a4f791a6"
      },
      "source": [
        "import numpy as np\n",
        "from numpy import reshape\n",
        "import random\n",
        "import pandas as pd\n",
        "import plotly.express as px\n",
        "import seaborn as sns\n",
        "import matplotlib.pyplot as plt\n",
        "from sklearn.linear_model import LinearRegression\n",
        "from sklearn.model_selection import train_test_split\n",
        "from sklearn.metrics import mean_absolute_error\n",
        "import statsmodels.api as sm\n",
        "import sys\n",
        "\n",
        "# np.random.seed(60)\n",
        "# df_raw = pd.read_csv('https://storage.googleapis.com/esmartdata-courses-files/ml-course/insurance.csv')\n",
        "# df_raw.head()\n",
        "# df = df_raw.copy()\n",
        "# df.info()\n",
        "# df[df.duplicated()]\n",
        "# df.drop_duplicates()\n",
        "# df.dropna(inplace=True)\n",
        "# for col in ['sex', 'smoker','region']:\n",
        "#   df[col] = df[col].astype('category');\n",
        "# df.info()\n",
        "# df.sex.value_counts()\n",
        "# df.sex.value_counts().plot(kind='pie')\n",
        "\n",
        "# df.smoker.value_counts()\n",
        "# df.charges.plot(kind = 'hist', bins = 30)\n",
        "# px.histogram(df, x = 'charges', width =700, height=400, nbins=50, facet_col='smoker', facet_row='sex')\n",
        "\n",
        "# df_dummies = pd.get_dummies(df, drop_first= True)\n",
        "# df_dummies\n",
        "\n",
        "# corr = df_dummies.corr()\n",
        "# corr\n",
        "\n",
        "\n",
        "# sns.set(style=\"white\")\n",
        "# mask = np.zeros_like(corr)\n",
        "# mask[np.tril_indices_from(mask)] = 1\n",
        "# plt.subplots(figsize=(10, 10))\n",
        "# cmap = sns.diverging_palette(200,10)\n",
        "# sns.heatmap(corr, mask=mask, cmap=cmap, vmax=0.25, vmin=-0.25)\n",
        "# df_dummies.corr()['charges'].sort_values(ascending=False)\n",
        "# df_dummies.corr()['charges'].sort_values().plot(kind='barh')\n",
        "\n",
        "# x1 = df_dummies['charges']\n",
        "# y1 = df_dummies.drop(columns='charges')\n",
        "# X_train,X_test,y_train,y_test = train_test_split(y1,x1,test_size=0.2)\n",
        "# print(X_train)\n",
        "# print(y_train)\n",
        "\n",
        "# regressor = LinearRegression()\n",
        "# regressor.fit(X_train,y_train)\n",
        "# print(f'R2 score: {regressor.score(X_test,y_test):.4f}')\n",
        "# y_pred = regressor.predict(X_test)\n",
        "# y_pred[:10]\n",
        "# y_true = y_test.copy()\n",
        "# predictions = pd.DataFrame(data={'y_true': y_true, 'y_pred': y_pred})\n",
        "# predictions['error'] = predictions['y_true'] - predictions['y_pred']\n",
        "# predictions.head()\n",
        "# predictions.error.plot(kind='hist', bins=30)\n",
        "# mae = mean_absolute_error(y_true, y_pred)\n",
        "# print(f'MAE wynosi: {mae:.2f}')\n",
        "\n",
        "# X_train_ols = sm.add_constant(X_train.values)\n",
        "# ols = sm.OLS(endog=y_train, exog=X_train_ols).fit()\n",
        "# predictors = ['const'] + list(X_train.columns)\n",
        "# print(ols.summary(xname=predictors))\n",
        "\n",
        "\n",
        "df_dummies1 = df_dummies.drop(columns=[\"children\", \"sex_male\", \"region_southeast\",'region_southwest','region_northwest',   ])\n",
        "x2 = df_dummies1['charges']\n",
        "y2 = df_dummies1.drop(columns='charges')\n",
        "X_train,X_test,y_train,y_test = train_test_split(y2,x2,test_size=0.2)\n",
        "regressor = LinearRegression()\n",
        "regressor.fit(X_train,y_train)\n",
        "print(f'R2 score: {regressor.score(X_test,y_test):.4f}')\n",
        "y_pred = regressor.predict(X_test)\n",
        "y_true = y_test.copy()\n",
        "mae_1 = mean_absolute_error(y_true, y_pred)\n",
        "print(f'MAE-1 result: {mae_1:.2f}')\n",
        "\n",
        "print(f'R2 score: {regressor.score(X_test,y_test):.4f}')\n",
        "print(f'MAE result: {mae:.2f}')\n",
        "\n",
        "print(f'R2 score after: {regressor.score(X_test,y_test):.4f}')\n",
        "print(f'MAE-1 result: {mae_1:.2f}')\n",
        "\n",
        "size_before = sys.getsizeof(df_dummies)\n",
        "print(f'Size before: {size_before}')\n",
        "size_after = sys.getsizeof(df_dummies1)\n",
        "print(f'Size after: {size_after}')\n",
        "\n",
        "print(f'Saved place {100-(size_after/size_before * 100)}% ')"
      ],
      "execution_count": 19,
      "outputs": [
        {
          "output_type": "stream",
          "text": [
            "R2 score: 0.7466\n",
            "MAE-1 result: 4429.92\n",
            "R2 score: 0.7466\n",
            "MAE result: 4330.16\n",
            "R2 score after: 0.7466\n",
            "MAE-1 result: 4429.92\n",
            "Size before: 60234\n",
            "Size after: 44178\n",
            "Saved place 26.656041438390275% \n"
          ],
          "name": "stdout"
        }
      ]
    }
  ]
}