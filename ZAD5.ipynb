{
  "nbformat": 4,
  "nbformat_minor": 0,
  "metadata": {
    "colab": {
      "name": "Untitled",
      "provenance": [],
      "authorship_tag": "ABX9TyOr/AFU318cnhoDL3pF2Cv8",
      "include_colab_link": true
    },
    "kernelspec": {
      "name": "python3",
      "display_name": "Python 3"
    }
  },
  "cells": [
    {
      "cell_type": "markdown",
      "metadata": {
        "id": "view-in-github",
        "colab_type": "text"
      },
      "source": [
        "<a href=\"https://colab.research.google.com/github/DiaIzd/175IC-machine-learning./blob/main/ZAD5.ipynb\" target=\"_parent\"><img src=\"https://colab.research.google.com/assets/colab-badge.svg\" alt=\"Open In Colab\"/></a>"
      ]
    },
    {
      "cell_type": "code",
      "metadata": {
        "colab": {
          "base_uri": "https://localhost:8080/"
        },
        "id": "16kwh7xk9-RH",
        "outputId": "7e149b1f-5016-481b-ae00-1ce47912f5d7"
      },
      "source": [
        "import pandas as pd\r\n",
        "import numpy as np\r\n",
        "import matplotlib.pyplot as plt\r\n",
        "import seaborn as sns\r\n",
        "import plotly.express as px\r\n",
        "from sklearn.datasets import load_iris\r\n",
        "from sklearn.ensemble import RandomForestClassifier\r\n",
        "from mlxtend.plotting import plot_decision_regions\r\n",
        "from sklearn.model_selection import train_test_split\r\n",
        "from sklearn.metrics import accuracy_score\r\n",
        "\r\n",
        "\r\n",
        "sns.set(font_scale=1.3)\r\n",
        "np.random.seed(42)\r\n",
        "raw_data = load_iris()\r\n",
        "all_data = raw_data.copy()\r\n",
        "\r\n",
        "data = all_data['data']\r\n",
        "target = all_data['target']\r\n",
        "feature_names = all_data['feature_names']\r\n",
        "target_names = all_data['target_names']\r\n",
        "\r\n",
        "df = pd.DataFrame(np.c_[data, target], columns=feature_names + ['target'])\r\n",
        "data = data[:,[0,1]]\r\n",
        "target = df['target'].apply(int).values\r\n",
        "# classifier = RandomForestClassifier(n_estimators=100)\r\n",
        "# classifier.fit(data,target)\r\n",
        "# plt.figure(figsize=(10,8))\r\n",
        "# plot_decision_regions(data, target, classifier)\r\n",
        "# plt.xlabel(feature_names[0])\r\n",
        "# plt.ylabel(feature_names[1])\r\n",
        "# plt.title(f'Las Losowy n_estimators=100, score={np.round(classifier.score(data, target),2)}')\r\n",
        "# plt.show()\r\n",
        "#Podzielenie danych na treningowe i testowe\r\n",
        "classifier = RandomForestClassifier(n_estimators=30)\r\n",
        "X_train,X_test,y_train,y_test = train_test_split(data,target,test_size=0.2)\r\n",
        "classifier.fit(X_train, y_train)\r\n",
        "#Określenie dokładności\r\n",
        "y_predicted=classifier.predict(X_test)\r\n",
        "accuracy = accuracy_score(y_test,y_predicted)\r\n",
        "print(accuracy)\r\n",
        "#Najważniejsza kolumna \r\n",
        "importances = classifier.feature_importances_\r\n",
        "print(importances)"
      ],
      "execution_count": 10,
      "outputs": [
        {
          "output_type": "stream",
          "text": [
            "0.7333333333333333\n",
            "[0.63138847 0.36861153]\n"
          ],
          "name": "stdout"
        }
      ]
    }
  ]
}